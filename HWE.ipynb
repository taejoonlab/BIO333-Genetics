{
  "nbformat": 4,
  "nbformat_minor": 0,
  "metadata": {
    "colab": {
      "name": "HWE.ipynb",
      "provenance": [],
      "collapsed_sections": [],
      "authorship_tag": "ABX9TyMrYnJ8C4JtWgh0AP3jsy0X",
      "include_colab_link": true
    },
    "kernelspec": {
      "name": "python3",
      "display_name": "Python 3"
    }
  },
  "cells": [
    {
      "cell_type": "markdown",
      "metadata": {
        "id": "view-in-github",
        "colab_type": "text"
      },
      "source": [
        "<a href=\"https://colab.research.google.com/github/taejoonlab/BIO333-Genetics/blob/master/HWE.ipynb\" target=\"_parent\"><img src=\"https://colab.research.google.com/assets/colab-badge.svg\" alt=\"Open In Colab\"/></a>"
      ]
    },
    {
      "cell_type": "code",
      "metadata": {
        "id": "0ov_rnA4cOij",
        "colab_type": "code",
        "colab": {
          "base_uri": "https://localhost:8080/",
          "height": 34
        },
        "outputId": "d3d00288-cb25-4c52-b3e5-60ac6a8780a2"
      },
      "source": [
        "# Check the session info. This notebook is based on python3.\n",
        "# If you see 'sys.version_info(major=3, minor=6, ...)', it is OK. \n",
        "\n",
        "import sys\n",
        "sys.version_info"
      ],
      "execution_count": 30,
      "outputs": [
        {
          "output_type": "execute_result",
          "data": {
            "text/plain": [
              "sys.version_info(major=3, minor=6, micro=9, releaselevel='final', serial=0)"
            ]
          },
          "metadata": {
            "tags": []
          },
          "execution_count": 30
        }
      ]
    },
    {
      "cell_type": "code",
      "metadata": {
        "id": "E56QKQIhbVBW",
        "colab_type": "code",
        "colab": {
          "base_uri": "https://localhost:8080/",
          "height": 105
        },
        "outputId": "6cf199b6-c617-4ff5-d31f-722ce3cf784e"
      },
      "source": [
        "import random\n",
        "\n",
        "# Set genotypes\n",
        "genotypes = ['AA', 'AT', 'TT']\n",
        "print(\"Genotypes: %s\" % ','.join(genotypes))\n",
        "\n",
        "# Set loci (the list of loci with above genotypes)\n",
        "loci = random.choices(genotypes, k=20)\n",
        "print(\"Loci: %s\" % ','.join(loci))\n",
        "\n",
        "genotype_counts = dict()\n",
        "alleles = []\n",
        "for tmp_g in genotypes:\n",
        "  genotype_counts[tmp_g] = loci.count(tmp_g)\n",
        "  alleles.append(tmp_g[0])\n",
        "  alleles.append(tmp_g[1])\n",
        "print(\"Genotype counts:\", genotype_counts)\n",
        "\n",
        "# Remove redundant allele info\n",
        "alleles = list(set(alleles))\n",
        "print(\"Alleles: %s\" % ','.join(alleles))\n",
        "\n",
        "allele_counts = dict()\n",
        "for tmp_g in genotypes:\n",
        "  tmp_a1 = tmp_g[0]\n",
        "  tmp_a2 = tmp_g[1]\n",
        "  if tmp_a1 not in allele_counts:\n",
        "    allele_counts[tmp_a1] = 0\n",
        "  if tmp_a2 not in allele_counts:\n",
        "    allele_counts[tmp_a2] = 0\n",
        "\n",
        "  allele_counts[tmp_a1] += genotype_counts[tmp_g]\n",
        "  allele_counts[tmp_a2] += genotype_counts[tmp_g]\n",
        "\n",
        "print(\"Allele counts:\", allele_counts)"
      ],
      "execution_count": 51,
      "outputs": [
        {
          "output_type": "stream",
          "text": [
            "Genotypes: AA,AT,TT\n",
            "Loci: AT,AA,AA,AT,TT,AT,AA,AA,TT,TT,AT,AT,TT,AA,AT,TT,TT,AT,AA,AT\n",
            "Genotype counts: {'AA': 6, 'AT': 8, 'TT': 6}\n",
            "Alleles: A,T\n",
            "Allele counts: {'A': 20, 'T': 20}\n"
          ],
          "name": "stdout"
        }
      ]
    }
  ]
}
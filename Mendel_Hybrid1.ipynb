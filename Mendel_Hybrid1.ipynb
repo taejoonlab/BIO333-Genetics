{
  "nbformat": 4,
  "nbformat_minor": 0,
  "metadata": {
    "colab": {
      "name": "Mendel_Hybrid1.ipynb",
      "provenance": [],
      "authorship_tag": "ABX9TyNwwGBoH9QjkWYtleyOpRXs",
      "include_colab_link": true
    },
    "kernelspec": {
      "name": "python3",
      "display_name": "Python 3"
    }
  },
  "cells": [
    {
      "cell_type": "markdown",
      "metadata": {
        "id": "view-in-github",
        "colab_type": "text"
      },
      "source": [
        "<a href=\"https://colab.research.google.com/github/taejoonlab/BIO333-Genetics/blob/master/Mendel_Hybrid1.ipynb\" target=\"_parent\"><img src=\"https://colab.research.google.com/assets/colab-badge.svg\" alt=\"Open In Colab\"/></a>"
      ]
    },
    {
      "cell_type": "markdown",
      "metadata": {
        "id": "qvRftHD_mk_v",
        "colab_type": "text"
      },
      "source": [
        "\"The observations made by Gärtner, Kölreuter, and others\n",
        "that hybrids possess the tendency to revert to the original\n",
        "parent species are confirmed by the experiments herein\n",
        "discussed.\" (from 'Experiments on Plant Hybrids by Gregor Mendel' translated by Scott Abbott* and Daniel J. Fairbanks, Genetics, 2015)."
      ]
    },
    {
      "cell_type": "code",
      "metadata": {
        "id": "OhNDfZlujwlL",
        "colab_type": "code",
        "colab": {
          "base_uri": "https://localhost:8080/",
          "height": 122
        },
        "outputId": "92643f5a-a170-480a-ff94-731c2e4aedf0"
      },
      "source": [
        "# His original table\n",
        "\n",
        "# AA:Aa:aa = 1:2:1\n",
        "generations = []\n",
        "\n",
        "def print_generation(list_genotypes):\n",
        "  genotype_counts = dict()\n",
        "  for tmp_genotype in list_genotypes:\n",
        "    tmp_genotype = tuple(sorted(tmp_genotype))\n",
        "    if tmp_genotype not in genotype_counts:\n",
        "      genotype_counts[tmp_genotype] = 0\n",
        "    genotype_counts[tmp_genotype] += 1\n",
        "  print(genotype_counts, sum(genotype_counts.values()))\n",
        "\n",
        "def self_mating(parent_genotypes):\n",
        "  offspring_genotypes = []\n",
        "  for genotype in parent_genotypes:\n",
        "    allele_1 = genotype[0]\n",
        "    allele_2 = genotype[1]\n",
        "    offspring_genotypes.append((allele_1, allele_1))\n",
        "    offspring_genotypes.append((allele_1, allele_2))\n",
        "    offspring_genotypes.append((allele_2, allele_1))\n",
        "    offspring_genotypes.append((allele_2, allele_2))\n",
        "  return offspring_genotypes\n",
        "\n",
        "# Starting with the selfing hybrid\n",
        "generation_i = [('A', 'a')]\n",
        "\n",
        "for i in range(0,6):\n",
        "  print_generation(generation_i)\n",
        "  generation_i = self_mating(generation_i)\n"
      ],
      "execution_count": 11,
      "outputs": [
        {
          "output_type": "stream",
          "text": [
            "{('A', 'a'): 1} 1\n",
            "{('A', 'A'): 1, ('A', 'a'): 2, ('a', 'a'): 1} 4\n",
            "{('A', 'A'): 6, ('A', 'a'): 4, ('a', 'a'): 6} 16\n",
            "{('A', 'A'): 28, ('A', 'a'): 8, ('a', 'a'): 28} 64\n",
            "{('A', 'A'): 120, ('A', 'a'): 16, ('a', 'a'): 120} 256\n",
            "{('A', 'A'): 496, ('A', 'a'): 32, ('a', 'a'): 496} 1024\n"
          ],
          "name": "stdout"
        }
      ]
    },
    {
      "cell_type": "code",
      "metadata": {
        "id": "KbuiKJm6suQW",
        "colab_type": "code",
        "colab": {
          "base_uri": "https://localhost:8080/",
          "height": 122
        },
        "outputId": "e4501b7f-e8cd-4d65-8194-e6f8bf750124"
      },
      "source": [
        "import random\n",
        "\n",
        "def random_mating(parent_genotypes):\n",
        "  offspring_genotypes = []\n",
        "\n",
        "  # same number of mating events as self-mating\n",
        "  for i in range(0,len(parent_genotypes)):\n",
        "    tmp_parents = random.choices(parent_genotypes, k=2)\n",
        "    M_allele_1 = tmp_parents[0][0]\n",
        "    M_allele_2 = tmp_parents[0][1]\n",
        "    F_allele_1 = tmp_parents[1][0]\n",
        "    F_allele_2 = tmp_parents[1][1]\n",
        "    offspring_genotypes.append((M_allele_1, F_allele_1))\n",
        "    offspring_genotypes.append((M_allele_1, F_allele_2))\n",
        "    offspring_genotypes.append((M_allele_2, F_allele_1))\n",
        "    offspring_genotypes.append((M_allele_2, F_allele_2))\n",
        "  return offspring_genotypes\n",
        "\n",
        "# Starting with the selfing hybrid\n",
        "generation_i = [('A', 'a')]\n",
        "\n",
        "for i in range(0,6):\n",
        "  print_generation(generation_i)\n",
        "  generation_i = random_mating(generation_i)\n"
      ],
      "execution_count": 21,
      "outputs": [
        {
          "output_type": "stream",
          "text": [
            "{('A', 'a'): 1} 1\n",
            "{('A', 'A'): 1, ('A', 'a'): 2, ('a', 'a'): 1} 4\n",
            "{('a', 'a'): 1, ('A', 'a'): 8, ('A', 'A'): 7} 16\n",
            "{('A', 'A'): 32, ('A', 'a'): 26, ('a', 'a'): 6} 64\n",
            "{('A', 'A'): 119, ('A', 'a'): 110, ('a', 'a'): 27} 256\n",
            "{('A', 'a'): 458, ('a', 'a'): 119, ('A', 'A'): 447} 1024\n"
          ],
          "name": "stdout"
        }
      ]
    }
  ]
}